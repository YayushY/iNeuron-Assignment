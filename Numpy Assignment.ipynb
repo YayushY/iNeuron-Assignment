{
 "cells": [
  {
   "cell_type": "code",
   "execution_count": 4,
   "metadata": {},
   "outputs": [],
   "source": [
    "import numpy as np\n",
    "# Q > Write a function so that the columns of the output matrix are powers of the input\n",
    "#vector."
   ]
  },
  {
   "cell_type": "code",
   "execution_count": 5,
   "metadata": {},
   "outputs": [
    {
     "data": {
      "text/plain": [
       "array([[ 1,  1,  1],\n",
       "       [ 1,  2,  4],\n",
       "       [ 1,  3,  9],\n",
       "       [ 1,  4, 16],\n",
       "       [ 1,  5, 25]])"
      ]
     },
     "execution_count": 5,
     "metadata": {},
     "output_type": "execute_result"
    }
   ],
   "source": [
    "x=np.array([1,2,3,4,5])\n",
    "N = 3\n",
    "k=np.vander(x,N,increasing=True)\n",
    "k"
   ]
  },
  {
   "cell_type": "code",
   "execution_count": 6,
   "metadata": {},
   "outputs": [],
   "source": [
    "#Q2 > Given a sequence of n values x1, x2, ..., xn and a window size k>0, the k-th moving average of\n",
    "#the given sequence is defined as follows:\n",
    "#The moving average sequence has n-k+1 elements as shown below.\n",
    "#The moving averages with k=4 of a ten-value sequence (n=10) is shown below\n",
    "#i 1 2 3 4 5 6 7 8 9 10\n",
    "#===== == == == == == == == == == ==\n",
    "#Input 10 20 30 40 50 60 70 80 90 100\n",
    "#y1 25 = (10+20+30+40)/4\n",
    "#y2 35 = (20+30+40+50)/4\n",
    "#y3 45 = (30+40+50+60)/4\n",
    "#y4 55 = (40+50+60+70)/4\n",
    "#y5 65 = (50+60+70+80)/4\n",
    "#y6 75 = (60+70+80+90)/4\n",
    "#y7 85 = (70+80+90+100)/4\n",
    "#Thus, the moving average sequence has n-k+1=10-4+1=7 values."
   ]
  },
  {
   "cell_type": "code",
   "execution_count": 13,
   "metadata": {},
   "outputs": [
    {
     "data": {
      "text/plain": [
       "{0: 25.0, 1: 35.0, 2: 45.0, 3: 55.0, 4: 65.0, 5: 75.0, 6: 85.0}"
      ]
     },
     "execution_count": 13,
     "metadata": {},
     "output_type": "execute_result"
    }
   ],
   "source": [
    "List = [10, 20, 30, 40, 50, 60, 70, 80, 90, 100]\n",
    "k=4\n",
    "mov_avg = len(List)-k+1\n",
    "dic ={}\n",
    "for i in range(mov_avg):\n",
    "    Sum=0\n",
    "    for j in range(i,i+k):\n",
    "        Sum+=List[j]\n",
    "    dic[i]=Sum/4\n",
    "dic"
   ]
  },
  {
   "cell_type": "code",
   "execution_count": 14,
   "metadata": {},
   "outputs": [],
   "source": [
    "#Q3 > Write a function to find moving average in an array over a window:\n",
    "#Test it over [3, 5, 7, 2, 8, 10, 11, 65, 72, 81, 99, 100, 150] and window of 3."
   ]
  },
  {
   "cell_type": "code",
   "execution_count": 19,
   "metadata": {},
   "outputs": [
    {
     "data": {
      "text/plain": [
       "{0: 5.0,\n",
       " 1: 4.667,\n",
       " 2: 5.667,\n",
       " 3: 6.667,\n",
       " 4: 9.667,\n",
       " 5: 28.667,\n",
       " 6: 49.333,\n",
       " 7: 72.667,\n",
       " 8: 84.0,\n",
       " 9: 93.333,\n",
       " 10: 116.333}"
      ]
     },
     "execution_count": 19,
     "metadata": {},
     "output_type": "execute_result"
    }
   ],
   "source": [
    "List1=[3, 5, 7, 2, 8, 10, 11, 65, 72, 81, 99, 100, 150]\n",
    "win =3\n",
    "\n",
    "def mov_avg(li,win):\n",
    "    dic = {}\n",
    "    mov_a=len(li)-win+1\n",
    "    for i in range(mov_a):\n",
    "        Sum=0\n",
    "        for j in range(i,i+win):\n",
    "            Sum+=li[j]\n",
    "        dic[i]=round(Sum/win,3)\n",
    "    return dic\n",
    "dici = mov_avg(List1,win)\n",
    "dici"
   ]
  }
 ],
 "metadata": {
  "kernelspec": {
   "display_name": "Python 3",
   "language": "python",
   "name": "python3"
  },
  "language_info": {
   "codemirror_mode": {
    "name": "ipython",
    "version": 3
   },
   "file_extension": ".py",
   "mimetype": "text/x-python",
   "name": "python",
   "nbconvert_exporter": "python",
   "pygments_lexer": "ipython3",
   "version": "3.7.4"
  }
 },
 "nbformat": 4,
 "nbformat_minor": 2
}
